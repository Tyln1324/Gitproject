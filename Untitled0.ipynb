{
  "nbformat": 4,
  "nbformat_minor": 0,
  "metadata": {
    "colab": {
      "name": "Untitled0.ipynb",
      "provenance": [],
      "collapsed_sections": [],
      "toc_visible": true,
      "authorship_tag": "ABX9TyMNkAElMpJWcl7kt8BNpJ3r",
      "include_colab_link": true
    },
    "kernelspec": {
      "name": "python3",
      "display_name": "Python 3"
    },
    "language_info": {
      "name": "python"
    }
  },
  "cells": [
    {
      "cell_type": "markdown",
      "metadata": {
        "id": "view-in-github",
        "colab_type": "text"
      },
      "source": [
        "<a href=\"https://colab.research.google.com/github/Tyln1324/Gitproject/blob/master/Untitled0.ipynb\" target=\"_parent\"><img src=\"https://colab.research.google.com/assets/colab-badge.svg\" alt=\"Open In Colab\"/></a>"
      ]
    },
    {
      "cell_type": "code",
      "metadata": {
        "colab": {
          "base_uri": "https://localhost:8080/"
        },
        "id": "x8ok9yOWVkT-",
        "outputId": "37b7e441-6e87-4213-f30b-30b66e57679a"
      },
      "source": [
        "print (\"I am new to python\")"
      ],
      "execution_count": 30,
      "outputs": [
        {
          "output_type": "stream",
          "text": [
            "I am new to python\n"
          ],
          "name": "stdout"
        }
      ]
    },
    {
      "cell_type": "code",
      "metadata": {
        "colab": {
          "base_uri": "https://localhost:8080/"
        },
        "id": "h8bPpqfRiIil",
        "outputId": "85e1d26b-0086-416c-9b0b-5a12d10ec7ab"
      },
      "source": [
        "#It is possible to write within my code blocks without python using\n",
        "print(\"I am learning python\")\n",
        "\n"
      ],
      "execution_count": 32,
      "outputs": [
        {
          "output_type": "stream",
          "text": [
            "I am learning python\n"
          ],
          "name": "stdout"
        }
      ]
    },
    {
      "cell_type": "code",
      "metadata": {
        "colab": {
          "base_uri": "https://localhost:8080/"
        },
        "id": "owmiUKTOi5UY",
        "outputId": "64982840-ebc4-49bd-ba6d-0a6565e5d96e"
      },
      "source": [
        "age = 31\n",
        "\n",
        "print (age)"
      ],
      "execution_count": 33,
      "outputs": [
        {
          "output_type": "stream",
          "text": [
            "31\n"
          ],
          "name": "stdout"
        }
      ]
    },
    {
      "cell_type": "code",
      "metadata": {
        "id": "BfM5KQ96jTQ6"
      },
      "source": [
        "name = input('what is your name,?')\n",
        "age = input('how old are you?')\n",
        "\n",
        "print(name)\n",
        "print(age)"
      ],
      "execution_count": null,
      "outputs": []
    },
    {
      "cell_type": "code",
      "metadata": {
        "colab": {
          "base_uri": "https://localhost:8080/"
        },
        "id": "mfjjyzA-m2mR",
        "outputId": "7e81976b-bdda-4096-fb9d-2ef5d1f9e0c2"
      },
      "source": [
        "discount = 43.8\n",
        "hight = 143\n",
        "python_string = 'Pelican Street'\n",
        "\n",
        "print (discount, hight, python_string)\n"
      ],
      "execution_count": 44,
      "outputs": [
        {
          "output_type": "stream",
          "text": [
            "43.8 143 Pelican Street\n"
          ],
          "name": "stdout"
        }
      ]
    },
    {
      "cell_type": "code",
      "metadata": {
        "colab": {
          "base_uri": "https://localhost:8080/"
        },
        "id": "RFY0doNjqnA5",
        "outputId": "2ab2b705-de14-443a-ae96-c732a74dfd02"
      },
      "source": [
        "# define a list\n",
        "my_favs = ['black','blue','green','pizza','chicken tikka masala']\n",
        "print(my_favs)\n",
        "\n",
        "# check length of the list\n",
        "print(len(my_favs))\n",
        "\n",
        "# check type\n",
        "type(my_favs)"
      ],
      "execution_count": 45,
      "outputs": [
        {
          "output_type": "stream",
          "text": [
            "['black', 'blue', 'green', 'pizza', 'chicken tikka masala']\n",
            "5\n"
          ],
          "name": "stdout"
        },
        {
          "output_type": "execute_result",
          "data": {
            "text/plain": [
              "list"
            ]
          },
          "metadata": {
            "tags": []
          },
          "execution_count": 45
        }
      ]
    },
    {
      "cell_type": "code",
      "metadata": {
        "colab": {
          "base_uri": "https://localhost:8080/"
        },
        "id": "GyxUAgR9sqoD",
        "outputId": "dd4e4629-0315-41d7-b9b7-225490b1ca5c"
      },
      "source": [
        "length = range(4,40)\n",
        "print(len(length))"
      ],
      "execution_count": 48,
      "outputs": [
        {
          "output_type": "stream",
          "text": [
            "36\n"
          ],
          "name": "stdout"
        }
      ]
    },
    {
      "cell_type": "code",
      "metadata": {
        "colab": {
          "base_uri": "https://localhost:8080/"
        },
        "id": "fdy_oT2Pt1t-",
        "outputId": "23f7eb72-48ae-4bc8-93ce-901455aaac5a"
      },
      "source": [
        "exp = 45\n",
        "\n",
        "print(type(exp))"
      ],
      "execution_count": 50,
      "outputs": [
        {
          "output_type": "stream",
          "text": [
            "<class 'int'>\n"
          ],
          "name": "stdout"
        }
      ]
    },
    {
      "cell_type": "code",
      "metadata": {
        "id": "m-g5_8Z3vRgI"
      },
      "source": [
        "studants = {'Jake': 40, 'Mako' : 50, 'Alex' : 65}\n",
        "\n",
        "print (studants)"
      ],
      "execution_count": null,
      "outputs": []
    },
    {
      "cell_type": "code",
      "metadata": {
        "colab": {
          "base_uri": "https://localhost:8080/"
        },
        "id": "IHLgAHuWzuSa",
        "outputId": "d1fce375-7740-476f-ccae-c0cad2d8bc1f"
      },
      "source": [
        "boolean = True\n",
        "\n",
        "type(boolean)\n",
        "\n",
        "boolean2 = False\n",
        "\n",
        "type(boolean2)"
      ],
      "execution_count": 56,
      "outputs": [
        {
          "output_type": "execute_result",
          "data": {
            "text/plain": [
              "bool"
            ]
          },
          "metadata": {
            "tags": []
          },
          "execution_count": 56
        }
      ]
    },
    {
      "cell_type": "code",
      "metadata": {
        "colab": {
          "base_uri": "https://localhost:8080/",
          "height": 195
        },
        "id": "VUqaTJCa1JAJ",
        "outputId": "5bb04137-5ecb-4570-ecff-8249dd1781ac"
      },
      "source": [
        "Set_of_numbers = {78, 45, 96, 85, 40, 73}\n",
        "\n",
        "print (Set_of_numbers)"
      ],
      "execution_count": 75,
      "outputs": [
        {
          "output_type": "error",
          "ename": "TypeError",
          "evalue": "ignored",
          "traceback": [
            "\u001b[0;31m---------------------------------------------------------------------------\u001b[0m",
            "\u001b[0;31mTypeError\u001b[0m                                 Traceback (most recent call last)",
            "\u001b[0;32m<ipython-input-75-29fc3b25902a>\u001b[0m in \u001b[0;36m<module>\u001b[0;34m()\u001b[0m\n\u001b[1;32m      1\u001b[0m \u001b[0mSet_of_numbers\u001b[0m \u001b[0;34m=\u001b[0m \u001b[0;34m{\u001b[0m\u001b[0;36m78\u001b[0m\u001b[0;34m,\u001b[0m \u001b[0;36m45\u001b[0m\u001b[0;34m,\u001b[0m \u001b[0;36m96\u001b[0m\u001b[0;34m,\u001b[0m \u001b[0;36m85\u001b[0m\u001b[0;34m,\u001b[0m \u001b[0;36m40\u001b[0m\u001b[0;34m,\u001b[0m \u001b[0;36m73\u001b[0m\u001b[0;34m}\u001b[0m\u001b[0;34m\u001b[0m\u001b[0;34m\u001b[0m\u001b[0m\n\u001b[1;32m      2\u001b[0m \u001b[0;34m\u001b[0m\u001b[0m\n\u001b[0;32m----> 3\u001b[0;31m \u001b[0mprint\u001b[0m \u001b[0;34m(\u001b[0m\u001b[0mSet_of_numbers\u001b[0m\u001b[0;34m)\u001b[0m\u001b[0;34m\u001b[0m\u001b[0;34m\u001b[0m\u001b[0m\n\u001b[0m",
            "\u001b[0;31mTypeError\u001b[0m: 'list' object is not callable"
          ]
        }
      ]
    },
    {
      "cell_type": "code",
      "metadata": {
        "id": "6whvZd-T6o8z"
      },
      "source": [
        "x = 45\n",
        "y = 46\n",
        "z = -85\n",
        "\n",
        "print(x)"
      ],
      "execution_count": null,
      "outputs": []
    },
    {
      "cell_type": "code",
      "metadata": {
        "colab": {
          "base_uri": "https://localhost:8080/"
        },
        "id": "vqdhhRPDVvgx",
        "outputId": "3560f175-5935-49d5-dc8a-550b7946c7c5"
      },
      "source": [
        "help (print)"
      ],
      "execution_count": 2,
      "outputs": [
        {
          "output_type": "stream",
          "text": [
            "Help on built-in function print in module builtins:\n",
            "\n",
            "print(...)\n",
            "    print(value, ..., sep=' ', end='\\n', file=sys.stdout, flush=False)\n",
            "    \n",
            "    Prints the values to a stream, or to sys.stdout by default.\n",
            "    Optional keyword arguments:\n",
            "    file:  a file-like object (stream); defaults to the current sys.stdout.\n",
            "    sep:   string inserted between values, default a space.\n",
            "    end:   string appended after the last value, default a newline.\n",
            "    flush: whether to forcibly flush the stream.\n",
            "\n"
          ],
          "name": "stdout"
        }
      ]
    },
    {
      "cell_type": "code",
      "metadata": {
        "colab": {
          "base_uri": "https://localhost:8080/"
        },
        "id": "kWbHnnAZXk9Z",
        "outputId": "a7c3f3f8-5cb0-4484-d8df-bb956973ceca"
      },
      "source": [
        "x = 8\n",
        "\n",
        "print (x)"
      ],
      "execution_count": 3,
      "outputs": [
        {
          "output_type": "stream",
          "text": [
            "8\n"
          ],
          "name": "stdout"
        }
      ]
    },
    {
      "cell_type": "code",
      "metadata": {
        "colab": {
          "base_uri": "https://localhost:8080/"
        },
        "id": "4ophvYgsY8Zz",
        "outputId": "2b92ba53-1c70-4e09-fe94-96906ab51e18"
      },
      "source": [
        "name = input ('what is your name?')\n",
        "print ('welcome to the world of python,', name)"
      ],
      "execution_count": 8,
      "outputs": [
        {
          "output_type": "stream",
          "text": [
            "what is your name?Ruhul\n",
            "welcome to the world of python, Ruhul\n"
          ],
          "name": "stdout"
        }
      ]
    },
    {
      "cell_type": "code",
      "metadata": {
        "colab": {
          "base_uri": "https://localhost:8080/"
        },
        "id": "jNhBppTXbGEl",
        "outputId": "3d840b9f-3608-446f-be00-e7e6e02c0872"
      },
      "source": [
        "# define a tuple\n",
        "tuple_example = (5,'11','a',2.86,9)\n",
        "print(tuple_example)\n",
        "\n",
        "# check length of tuple\n",
        "print(len(tuple_example))\n",
        "\n",
        "# check type\n",
        "type(tuple_example)"
      ],
      "execution_count": 10,
      "outputs": [
        {
          "output_type": "stream",
          "text": [
            "(5, '11', 'a', 2.86, 9)\n",
            "5\n"
          ],
          "name": "stdout"
        },
        {
          "output_type": "execute_result",
          "data": {
            "text/plain": [
              "tuple"
            ]
          },
          "metadata": {
            "tags": []
          },
          "execution_count": 10
        }
      ]
    },
    {
      "cell_type": "code",
      "metadata": {
        "colab": {
          "base_uri": "https://localhost:8080/"
        },
        "id": "GbEpDdsIdypa",
        "outputId": "35d9bdf2-dade-414d-a011-b8a8b5b4dace"
      },
      "source": [
        "range_example = range(7)\n",
        "print (range_example)\n",
        "\n",
        "print(len(range_example))\n",
        "\n",
        "type(range_example)"
      ],
      "execution_count": 22,
      "outputs": [
        {
          "output_type": "stream",
          "text": [
            "range(0, 7)\n",
            "7\n"
          ],
          "name": "stdout"
        },
        {
          "output_type": "execute_result",
          "data": {
            "text/plain": [
              "range"
            ]
          },
          "metadata": {
            "tags": []
          },
          "execution_count": 22
        }
      ]
    },
    {
      "cell_type": "code",
      "metadata": {
        "colab": {
          "base_uri": "https://localhost:8080/"
        },
        "id": "lR2_hDXhgnwI",
        "outputId": "f99bf24e-6f0a-41bc-d8b6-0fa523b3b495"
      },
      "source": [
        "range_example = range(5,9,3)\n",
        "print(range_example)\n",
        "print(len(range_example))\n",
        "type(range_example)"
      ],
      "execution_count": 29,
      "outputs": [
        {
          "output_type": "stream",
          "text": [
            "range(5, 9, 3)\n",
            "2\n"
          ],
          "name": "stdout"
        },
        {
          "output_type": "execute_result",
          "data": {
            "text/plain": [
              "range"
            ]
          },
          "metadata": {
            "tags": []
          },
          "execution_count": 29
        }
      ]
    }
  ]
}