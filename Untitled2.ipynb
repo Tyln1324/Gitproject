{
  "nbformat": 4,
  "nbformat_minor": 0,
  "metadata": {
    "colab": {
      "name": "Untitled2.ipynb",
      "provenance": [],
      "authorship_tag": "ABX9TyN28wsKpuc5msVixIM7KEH4",
      "include_colab_link": true
    },
    "kernelspec": {
      "name": "python3",
      "display_name": "Python 3"
    },
    "language_info": {
      "name": "python"
    }
  },
  "cells": [
    {
      "cell_type": "markdown",
      "metadata": {
        "id": "view-in-github",
        "colab_type": "text"
      },
      "source": [
        "<a href=\"https://colab.research.google.com/github/Tyln1324/Gitproject/blob/master/Untitled2.ipynb\" target=\"_parent\"><img src=\"https://colab.research.google.com/assets/colab-badge.svg\" alt=\"Open In Colab\"/></a>"
      ]
    },
    {
      "cell_type": "code",
      "metadata": {
        "colab": {
          "base_uri": "https://localhost:8080/"
        },
        "id": "L37cK-8_R79R",
        "outputId": "7603ef82-951a-4ecf-fa80-a94daeb92dac"
      },
      "source": [
        "st1 = \"Hello world\"\n",
        "st2 = \"Hello world\"\n",
        "\n",
        "st1 == st2\n",
        "\n",
        "st1 is  st2\n",
        "\n",
        "st1 is not st2\n",
        "\n",
        "st1 = st2\n",
        "\n",
        "st1 is st2"
      ],
      "execution_count": 3,
      "outputs": [
        {
          "output_type": "execute_result",
          "data": {
            "text/plain": [
              "True"
            ]
          },
          "metadata": {
            "tags": []
          },
          "execution_count": 3
        }
      ]
    },
    {
      "cell_type": "code",
      "metadata": {
        "colab": {
          "base_uri": "https://localhost:8080/"
        },
        "id": "jwAHg-SgWond",
        "outputId": "567b5bac-c4b8-4ed3-8311-1b91ff860a81"
      },
      "source": [
        "8 in [5, 6, 7, 8, 9]\n",
        "\n",
        "9 not in [9, 6, 5, 2]"
      ],
      "execution_count": 5,
      "outputs": [
        {
          "output_type": "execute_result",
          "data": {
            "text/plain": [
              "False"
            ]
          },
          "metadata": {
            "tags": []
          },
          "execution_count": 5
        }
      ]
    },
    {
      "cell_type": "code",
      "metadata": {
        "colab": {
          "base_uri": "https://localhost:8080/"
        },
        "id": "zg26fukJifUW",
        "outputId": "cc321e29-37ed-4d93-9eb5-0acaf31c8ca2"
      },
      "source": [
        "x = 50\n",
        "type(x)"
      ],
      "execution_count": 6,
      "outputs": [
        {
          "output_type": "execute_result",
          "data": {
            "text/plain": [
              "int"
            ]
          },
          "metadata": {
            "tags": []
          },
          "execution_count": 6
        }
      ]
    },
    {
      "cell_type": "code",
      "metadata": {
        "colab": {
          "base_uri": "https://localhost:8080/"
        },
        "id": "1OK6Odmfjh3u",
        "outputId": "fab9cd21-7bd4-4d35-cc2b-b7127fd516be"
      },
      "source": [
        "y = float(x)\n",
        "print (y)"
      ],
      "execution_count": 13,
      "outputs": [
        {
          "output_type": "stream",
          "text": [
            "50.0\n"
          ],
          "name": "stdout"
        }
      ]
    },
    {
      "cell_type": "code",
      "metadata": {
        "id": "bQHjtWhAoi1y"
      },
      "source": [
        "\n",
        "# while loop example #2\n",
        "x = 4 \n",
        "while x < 100:\n",
        "  print(n)\n",
        "  x += 1\n",
        "else:\n",
        "  print('n is not less than 100 anymore') "
      ],
      "execution_count": null,
      "outputs": []
    },
    {
      "cell_type": "code",
      "metadata": {
        "id": "gX4GFm8DtH9m"
      },
      "source": [
        "for x in range (10):\n",
        "  print (x)\n"
      ],
      "execution_count": null,
      "outputs": []
    },
    {
      "cell_type": "code",
      "metadata": {
        "id": "xEJ8IX_HteZl"
      },
      "source": [
        "for y in range (3, 8):\n",
        "  print (y)"
      ],
      "execution_count": null,
      "outputs": []
    },
    {
      "cell_type": "code",
      "metadata": {
        "id": "OYX5WsqEt3E5"
      },
      "source": [
        "text = 'Rahim'\n",
        "\n",
        "for letter in text:\n",
        "   print(letter)"
      ],
      "execution_count": null,
      "outputs": []
    },
    {
      "cell_type": "code",
      "metadata": {
        "id": "8ehK5lKFvDcr"
      },
      "source": [
        "text = \"TECH I.S.\"\n",
        "for letter in text:\n",
        "  print(letter)"
      ],
      "execution_count": null,
      "outputs": []
    },
    {
      "cell_type": "code",
      "metadata": {
        "id": "cuxwlSu8wZdL"
      },
      "source": [
        "list_fruits = [\"apple\", \"charry\", \"Orange\", \"banana\"]\n",
        "\n",
        "for fruits_list in list_fruits:\n",
        "    print (fruits_list)"
      ],
      "execution_count": null,
      "outputs": []
    },
    {
      "cell_type": "code",
      "metadata": {
        "id": "7ROEukDoyXEp"
      },
      "source": [
        "# define a tuple\n",
        "animals_list = \"dog\",\"cat\",\"elephant\",\"otter\"\n",
        "\n",
        "# run a for loop to print the elements of the tuple\n",
        "for animal in animals_list:\n",
        "  print(animal)"
      ],
      "execution_count": null,
      "outputs": []
    },
    {
      "cell_type": "code",
      "metadata": {
        "colab": {
          "base_uri": "https://localhost:8080/"
        },
        "id": "XdUHvzujylAW",
        "outputId": "d209865f-ba77-4de4-e40d-afcf718a1efc"
      },
      "source": [
        "# define a set \n",
        "names = {'oliva','caleb','kaseem'}\n",
        "\n",
        "# loop over the set with for \n",
        "for name in names:\n",
        "  print(name)"
      ],
      "execution_count": 33,
      "outputs": [
        {
          "output_type": "stream",
          "text": [
            "oliva\n",
            "kaseem\n",
            "caleb\n"
          ],
          "name": "stdout"
        }
      ]
    },
    {
      "cell_type": "code",
      "metadata": {
        "colab": {
          "base_uri": "https://localhost:8080/"
        },
        "id": "lzgobk7u0jjf",
        "outputId": "95b1c742-caac-4eae-a3db-a19bad0557e0"
      },
      "source": [
        "\n",
        "# multiple exceptions handling\n",
        "try:\n",
        "  print(x_val)\n",
        "except NameError: # exception handling #1\n",
        "  print(\"x_val is not defined\")\n",
        "except: # exception handling #2\n",
        "  print(\"Something else went wrong\")"
      ],
      "execution_count": 34,
      "outputs": [
        {
          "output_type": "stream",
          "text": [
            "x_val is not defined\n"
          ],
          "name": "stdout"
        }
      ]
    },
    {
      "cell_type": "code",
      "metadata": {
        "colab": {
          "base_uri": "https://localhost:8080/"
        },
        "id": "vdcU_Xrd5-QW",
        "outputId": "8c9bca63-a199-4230-e091-ef444af91a75"
      },
      "source": [
        "# `finally` block example #1\n",
        "try:\n",
        "  print(x)\n",
        "except: # this executes if the try block has an error\n",
        "  print(\"Something went wrong\")\n",
        "finally: # this is executed whether an error is raised or not\n",
        "  print(\"The 'try except' is finished!\")"
      ],
      "execution_count": 35,
      "outputs": [
        {
          "output_type": "stream",
          "text": [
            "9\n",
            "The 'try except' is finished!\n"
          ],
          "name": "stdout"
        }
      ]
    },
    {
      "cell_type": "code",
      "metadata": {
        "colab": {
          "base_uri": "https://localhost:8080/"
        },
        "id": "3Vu9XGL0AMf5",
        "outputId": "23343fb1-6363-4d86-b8aa-229c69212fc9"
      },
      "source": [
        "num1 = input(\"Enter the first number\")\n",
        "num2 = input(\"Enter the second number\")\n",
        "\n",
        "result = int(num1) + int(num2)\n",
        "\n",
        "print (result)"
      ],
      "execution_count": 36,
      "outputs": [
        {
          "output_type": "stream",
          "text": [
            "Enter the first number4\n",
            "Enter the second number8\n",
            "12\n"
          ],
          "name": "stdout"
        }
      ]
    }
  ]
}