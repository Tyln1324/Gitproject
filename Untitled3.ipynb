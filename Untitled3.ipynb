{
  "nbformat": 4,
  "nbformat_minor": 0,
  "metadata": {
    "colab": {
      "name": "Untitled3.ipynb",
      "provenance": [],
      "authorship_tag": "ABX9TyPvdH3r5dheLjpT9keLLBBm",
      "include_colab_link": true
    },
    "kernelspec": {
      "name": "python3",
      "display_name": "Python 3"
    },
    "language_info": {
      "name": "python"
    }
  },
  "cells": [
    {
      "cell_type": "markdown",
      "metadata": {
        "id": "view-in-github",
        "colab_type": "text"
      },
      "source": [
        "<a href=\"https://colab.research.google.com/github/Tyln1324/Gitproject/blob/master/Untitled3.ipynb\" target=\"_parent\"><img src=\"https://colab.research.google.com/assets/colab-badge.svg\" alt=\"Open In Colab\"/></a>"
      ]
    },
    {
      "cell_type": "code",
      "metadata": {
        "colab": {
          "base_uri": "https://localhost:8080/"
        },
        "id": "I-d2dU_8-XX0",
        "outputId": "3ba24d29-9196-4faa-83d0-1c4626b02177"
      },
      "source": [
        "x = 8\n",
        "y = 9\n",
        "\n",
        "\n",
        "if x == y:\n",
        " print ('this is corrent')\n",
        " \n",
        " else:\n",
        "   print ('this is not correct')"
      ],
      "execution_count": 6,
      "outputs": [
        {
          "output_type": "stream",
          "text": [
            "this is not correct\n"
          ],
          "name": "stdout"
        }
      ]
    },
    {
      "cell_type": "code",
      "metadata": {
        "colab": {
          "base_uri": "https://localhost:8080/"
        },
        "id": "d9JaRb6nBcAQ",
        "outputId": "56ca2351-e574-4d6b-e14f-4d5b9d60f022"
      },
      "source": [
        "\n",
        "# 'if... elif... else...' conditional\n",
        "x = 6\n",
        "y = 3\n",
        "\n",
        "if x == y:\n",
        "    print('x and y are equal')\n",
        "elif x < y:\n",
        "    print('x is smaller')\n",
        "else:\n",
        "    print('y is smaller')"
      ],
      "execution_count": 14,
      "outputs": [
        {
          "output_type": "stream",
          "text": [
            "y is smaller\n"
          ],
          "name": "stdout"
        }
      ]
    },
    {
      "cell_type": "code",
      "metadata": {
        "colab": {
          "base_uri": "https://localhost:8080/"
        },
        "id": "4Fm7ywaJB0-U",
        "outputId": "616516a3-4667-40ab-981c-2ff1db0346a3"
      },
      "source": [
        "x = 7\n",
        "y = 9\n",
        "\n",
        "if x == y:\n",
        "  print('this is not correct')\n",
        "elif x < y:\n",
        "  print(\"this is correct\")\n",
        "else:\n",
        "  print('this will print')"
      ],
      "execution_count": 17,
      "outputs": [
        {
          "output_type": "stream",
          "text": [
            "this is correct\n"
          ],
          "name": "stdout"
        }
      ]
    }
  ]
}