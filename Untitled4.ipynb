{
  "nbformat": 4,
  "nbformat_minor": 0,
  "metadata": {
    "colab": {
      "name": "Untitled4.ipynb",
      "provenance": [],
      "authorship_tag": "ABX9TyPGIuZHmXvuUvzQWDA+UL+C",
      "include_colab_link": true
    },
    "kernelspec": {
      "name": "python3",
      "display_name": "Python 3"
    },
    "language_info": {
      "name": "python"
    }
  },
  "cells": [
    {
      "cell_type": "markdown",
      "metadata": {
        "id": "view-in-github",
        "colab_type": "text"
      },
      "source": [
        "<a href=\"https://colab.research.google.com/github/Tyln1324/Gitproject/blob/master/Untitled4.ipynb\" target=\"_parent\"><img src=\"https://colab.research.google.com/assets/colab-badge.svg\" alt=\"Open In Colab\"/></a>"
      ]
    },
    {
      "cell_type": "code",
      "metadata": {
        "colab": {
          "base_uri": "https://localhost:8080/"
        },
        "id": "vH57T0nmhG10",
        "outputId": "45790cda-4ec0-4a22-b88d-aa62d073a391"
      },
      "source": [
        "try:\n",
        "  print(x_val)\n",
        "except NameError: # exception handling #1\n",
        "  print(\"x_val is not defined\")\n",
        "except: # exception handling #2\n",
        "  print(\"Something else went wrong\")"
      ],
      "execution_count": 1,
      "outputs": [
        {
          "output_type": "stream",
          "text": [
            "x_val is not defined\n"
          ],
          "name": "stdout"
        }
      ]
    },
    {
      "cell_type": "code",
      "metadata": {
        "colab": {
          "base_uri": "https://localhost:8080/"
        },
        "id": "IHmVh_Lzhcqa",
        "outputId": "75252c62-9d29-4c96-bd86-a62fbea41f5f"
      },
      "source": [
        "try:\n",
        "  print(x)\n",
        "except: # this executes if the try block has an error\n",
        "  print(\"Something went wrong\")\n",
        "finally: # this is executed whether an error is raised or not\n",
        "  print(\"The 'try except' is finished!\")"
      ],
      "execution_count": 4,
      "outputs": [
        {
          "output_type": "stream",
          "text": [
            "hello\n",
            "The 'try except' is finished!\n"
          ],
          "name": "stdout"
        }
      ]
    },
    {
      "cell_type": "code",
      "metadata": {
        "colab": {
          "base_uri": "https://localhost:8080/"
        },
        "id": "FjjqQcKQiv5e",
        "outputId": "75d11f4f-1544-42aa-f07a-1dfa27c7eb85"
      },
      "source": [
        "plus_ten = lambda x : x + 10\n",
        "print(plus_ten(5))"
      ],
      "execution_count": 6,
      "outputs": [
        {
          "output_type": "stream",
          "text": [
            "15\n"
          ],
          "name": "stdout"
        }
      ]
    },
    {
      "cell_type": "code",
      "metadata": {
        "id": "0jlw-cZ4iz7Y"
      },
      "source": [
        "multiply = lambda a, b : a * b \n",
        "print(multiply(5, 6))"
      ],
      "execution_count": null,
      "outputs": []
    },
    {
      "cell_type": "code",
      "metadata": {
        "colab": {
          "base_uri": "https://localhost:8080/"
        },
        "id": "e4ZZJJiVkFXR",
        "outputId": "d20dac36-1a02-42fb-94e5-524dd6d81ba0"
      },
      "source": [
        "triple_sum = lambda a, b, c : a + b + c\n",
        "print(triple_sum(5, 6, 3))"
      ],
      "execution_count": 10,
      "outputs": [
        {
          "output_type": "stream",
          "text": [
            "14\n"
          ],
          "name": "stdout"
        }
      ]
    }
  ]
}